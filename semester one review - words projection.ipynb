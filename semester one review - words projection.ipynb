{
 "cells": [
  {
   "cell_type": "code",
   "execution_count": 1,
   "id": "d4625e31",
   "metadata": {},
   "outputs": [],
   "source": [
    "import PyPDF2\n",
    "import fitz  # PyMuPDF\n",
    "import re"
   ]
  },
  {
   "cell_type": "code",
   "execution_count": 4,
   "id": "d9a590f5",
   "metadata": {},
   "outputs": [],
   "source": [
    "from nltk.corpus import words\n",
    "from nltk.stem import WordNetLemmatizer\n",
    "from nltk.corpus import stopwords\n",
    "import gensim\n",
    "import re\n",
    "from sklearn.feature_extraction.text import TfidfVectorizer"
   ]
  },
  {
   "cell_type": "code",
   "execution_count": 13,
   "id": "9830878e",
   "metadata": {},
   "outputs": [],
   "source": [
    "from sklearn.feature_extraction.text import TfidfVectorizer\n",
    "from sklearn.metrics.pairwise import cosine_similarity"
   ]
  },
  {
   "cell_type": "code",
   "execution_count": 2,
   "id": "7754ec9e",
   "metadata": {},
   "outputs": [],
   "source": [
    "def extract_text_from_pdf(pdf_path):\n",
    "    text = {}\n",
    "    pdf_document = fitz.open(pdf_path)\n",
    "    for page_num in range(pdf_document.page_count):\n",
    "        page = pdf_document.load_page(page_num)\n",
    "        textInfo = page.get_text(\"blocks\", flags=1+2+8)\n",
    "        paragraphs = [re.sub('\\n', ' ', t[4]) for t in textInfo]\n",
    "        text[page_num] = paragraphs\n",
    "    pdf_document.close()\n",
    "    return text"
   ]
  },
  {
   "cell_type": "code",
   "execution_count": 3,
   "id": "21b34dbd",
   "metadata": {},
   "outputs": [],
   "source": [
    "def merge_strings_until_limit(strings, min_length, max_length):\n",
    "    merged_strings = []\n",
    "    current_string = \"\"\n",
    "\n",
    "    for s in strings:\n",
    "        if len(current_string) + len(s) <= max_length:\n",
    "            current_string += s\n",
    "        else:\n",
    "            merged_strings.append(current_string)\n",
    "            current_string = s\n",
    "\n",
    "    if current_string:\n",
    "        merged_strings.append(current_string)\n",
    "\n",
    "    return merged_strings"
   ]
  },
  {
   "cell_type": "code",
   "execution_count": 5,
   "id": "dc6f91c0",
   "metadata": {},
   "outputs": [],
   "source": [
    "def is_english_word(word):\n",
    "    return word in words.words()"
   ]
  },
  {
   "cell_type": "code",
   "execution_count": 6,
   "id": "eadd38fd",
   "metadata": {},
   "outputs": [],
   "source": [
    "def preprocess(text):\n",
    "    processed_text = []\n",
    "    for t in text:\n",
    "        preprocessed_text = gensim.utils.simple_preprocess(t, min_len=3, deacc=True)\n",
    "        lemmatized_text = [lemmatizer.lemmatize(word) for word in preprocessed_text]\n",
    "        filtered_text = [word for word in lemmatized_text if word not in stop_words and is_english_word(word)]\n",
    "        processed_text.append(\" \".join(filtered_text))\n",
    "    return processed_text"
   ]
  },
  {
   "cell_type": "code",
   "execution_count": 7,
   "id": "0642a31c",
   "metadata": {},
   "outputs": [],
   "source": [
    "lemmatizer = WordNetLemmatizer()\n",
    "stop_words = set(stopwords.words(\"english\"))"
   ]
  },
  {
   "cell_type": "code",
   "execution_count": 159,
   "id": "faa09586",
   "metadata": {},
   "outputs": [
    {
     "data": {
      "text/plain": [
       "'AHRReviewRoundtable IntheShadowoftheWind SASHATURNER '"
      ]
     },
     "execution_count": 159,
     "metadata": {},
     "output_type": "execute_result"
    }
   ],
   "source": [
    "pdf_file_path = r'C:\\Users\\SherryAi\\Desktop\\books\\contemporary\\c\\The shadow of the wind c.pdf'\n",
    "output_text = extract_text_from_pdf(pdf_file_path)\n",
    "merged_strings = []\n",
    "\n",
    "for i in output_text:\n",
    "    merged_strings.extend(merge_strings_until_limit(output_text[i], 20, 500))\n",
    "\n",
    "merged_strings[0]"
   ]
  },
  {
   "cell_type": "code",
   "execution_count": 160,
   "id": "e1608189",
   "metadata": {},
   "outputs": [
    {
     "data": {
      "text/plain": [
       "'rightly year old sang reform sailor runaway idea colonial'"
      ]
     },
     "execution_count": 160,
     "metadata": {},
     "output_type": "execute_result"
    }
   ],
   "source": [
    "pretext = preprocess(merged_strings)\n",
    "pretext[1]"
   ]
  },
  {
   "cell_type": "code",
   "execution_count": 161,
   "id": "c705bf8c",
   "metadata": {},
   "outputs": [
    {
     "data": {
      "text/plain": [
       "<28x25 sparse matrix of type '<class 'numpy.float64'>'\n",
       "\twith 83 stored elements in Compressed Sparse Row format>"
      ]
     },
     "execution_count": 161,
     "metadata": {},
     "output_type": "execute_result"
    }
   ],
   "source": [
    "vectorizer = TfidfVectorizer(min_df=2)\n",
    "tfidf_matrix = vectorizer.fit_transform(pretext)\n",
    "tfidf_matrix"
   ]
  },
  {
   "cell_type": "code",
   "execution_count": 162,
   "id": "1549467e",
   "metadata": {},
   "outputs": [
    {
     "data": {
      "text/plain": [
       "25"
      ]
     },
     "execution_count": 162,
     "metadata": {},
     "output_type": "execute_result"
    }
   ],
   "source": [
    "vectorizer.get_feature_names_out()\n",
    "len(vectorizer.get_feature_names_out())"
   ]
  },
  {
   "cell_type": "code",
   "execution_count": 163,
   "id": "7e584f08",
   "metadata": {},
   "outputs": [
    {
     "data": {
      "text/plain": [
       "['knight valor chivalry duty figure courage honor commitment protect serve often moral ethical code knight represent blend strength loyalty sense justice service higher cause realm']"
      ]
     },
     "execution_count": 163,
     "metadata": {},
     "output_type": "execute_result"
    }
   ],
   "source": [
    "query = 'KNIGHT symbolizes valor, chivalry, and duty. It is a figure embodying courage, honor, and a commitment to protect and serve, often guided by a moral and ethical code. Knights represent the blend of strength, loyalty, and a sense of justice in service to a higher cause or realm.'\n",
    "prequery = preprocess([query])  # Pass query as a list\n",
    "prequery\n"
   ]
  },
  {
   "cell_type": "code",
   "execution_count": 164,
   "id": "8084a2bf",
   "metadata": {},
   "outputs": [
    {
     "data": {
      "text/plain": [
       "array([[0., 0., 0., 0., 0., 0., 0., 0., 0., 0., 0., 0., 0., 0., 0., 0.,\n",
       "        0., 0., 0., 0., 0., 0., 0., 0., 0., 0., 0., 0.]])"
      ]
     },
     "execution_count": 164,
     "metadata": {},
     "output_type": "execute_result"
    }
   ],
   "source": [
    "# Assuming 'original_texts' is a list of your original documents\n",
    "vectorizer = TfidfVectorizer(min_df=1)\n",
    "vectorizer.fit(pretext)  # Learn vocabulary from the original dataset\n",
    "\n",
    "# Transform the original data (if you don't already have tfidf_matrix)\n",
    "tfidf_matrix = vectorizer.transform(pretext)\n",
    "\n",
    "# Transform the query using the same vectorizer\n",
    "comprequery = vectorizer.transform(prequery)\n",
    "\n",
    "# Compute cosine similarity\n",
    "similarities = cosine_similarity(comprequery, tfidf_matrix)\n",
    "similarities"
   ]
  },
  {
   "cell_type": "code",
   "execution_count": 158,
   "id": "d68f4e23",
   "metadata": {},
   "outputs": [
    {
     "data": {
      "text/plain": [
       "(25, 0.08354589894987596)"
      ]
     },
     "execution_count": 158,
     "metadata": {},
     "output_type": "execute_result"
    }
   ],
   "source": [
    "nearest_neighbor_index = similarities.argmax()\n",
    "nearest_neighbor = tfidf_matrix[nearest_neighbor_index]\n",
    "similarity_score = similarities[0, nearest_neighbor_index]\n",
    "nearest_neighbor_index,similarity_score"
   ]
  },
  {
   "cell_type": "code",
   "execution_count": 155,
   "id": "88a78819",
   "metadata": {},
   "outputs": [
    {
     "data": {
      "text/plain": [
       "'This paradigm lays bare the teleology of an ill reputation, which causes dishonor  and death. Conversely, a good standing leads to honorability and life. The notion of  “fama” (repute) as the springhead of life is unequivocally affirmed in Jorge Man- rique’s celebrated “Coplas a la muerte de su padre” (1477). This elemental ideal is  no mere literary conceit. It was an essential part of human relations and a core tenet  of social institutions. Rojas and Lorca not only understood these imperatives. They recognized the  seed for tragedy hidden beneath. They knew that their societies valued people not in  proportion with personal virtue or moral integrity, but with appearances and public  opinion. Guided by this sociological awareness, they sought to make their characters  reflect upon and live through these idiosyncrasies that rewarded repute with honor  and life, and punished dishonor with exclusion and death. Melibea consistently equates her loss of honra to the loss of her life. In act X, she  claims to prefer death over losing her good name. When Celestina insinuates her  illicit union with Calisto, Melibea complains: “Más agradable me sería que rasgases  mis carnes y sacasses mi coraçón” (448–49). After the death of Pármeno and Sem- pronio at the hands of the police, Calisto likewise favors death over dishonor: “Plu- guiera a Dios que fuera yo ellos y perdiera la vida y no la honrra” (506–07). Lorca  '"
      ]
     },
     "execution_count": 155,
     "metadata": {},
     "output_type": "execute_result"
    }
   ],
   "source": [
    "merged_strings[25]"
   ]
  },
  {
   "cell_type": "code",
   "execution_count": null,
   "id": "fbe19c1c",
   "metadata": {},
   "outputs": [],
   "source": []
  }
 ],
 "metadata": {
  "kernelspec": {
   "display_name": "Python 3 (ipykernel)",
   "language": "python",
   "name": "python3"
  },
  "language_info": {
   "codemirror_mode": {
    "name": "ipython",
    "version": 3
   },
   "file_extension": ".py",
   "mimetype": "text/x-python",
   "name": "python",
   "nbconvert_exporter": "python",
   "pygments_lexer": "ipython3",
   "version": "3.11.5"
  }
 },
 "nbformat": 4,
 "nbformat_minor": 5
}
